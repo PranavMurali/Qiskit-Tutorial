{
 "cells": [
  {
   "cell_type": "code",
   "execution_count": 6,
   "id": "extended-corpus",
   "metadata": {},
   "outputs": [
    {
     "name": "stderr",
     "output_type": "stream",
     "text": [
      "ibmqfactory.load_account:WARNING:2021-03-22 07:17:36,596: Credentials are already in use. The existing account in the session will be replaced.\n"
     ]
    }
   ],
   "source": [
    "%matplotlib inline\n",
    "# Importing standard Qiskit libraries\n",
    "from qiskit import QuantumCircuit, execute, Aer, IBMQ\n",
    "from qiskit.compiler import transpile, assemble\n",
    "from qiskit.tools.jupyter import *\n",
    "from qiskit.visualization import *\n",
    "from ibm_quantum_widgets import *\n",
    "\n",
    "# Loading your IBM Q account\n",
    "provider = IBMQ.load_account()"
   ]
  },
  {
   "cell_type": "markdown",
   "id": "comfortable-carter",
   "metadata": {},
   "source": [
    "* **Aer** is a Qiskit simaultion package. \n",
    "* A specific simulator or device is called a **backend**."
   ]
  },
  {
   "cell_type": "code",
   "execution_count": 4,
   "id": "competitive-chest",
   "metadata": {
    "scrolled": true
   },
   "outputs": [
    {
     "data": {
      "text/plain": [
       "[QasmSimulator(\n",
       " backend_name='qasm_simulator', provider=AerProvider()),\n",
       " StatevectorSimulator(\n",
       " backend_name='statevector_simulator', provider=AerProvider()),\n",
       " UnitarySimulator(\n",
       " backend_name='unitary_simulator', provider=AerProvider()),\n",
       " PulseSimulator(\n",
       " backend_name='pulse_simulator', provider=AerProvider())]"
      ]
     },
     "execution_count": 4,
     "metadata": {},
     "output_type": "execute_result"
    }
   ],
   "source": [
    "Aer.backends() #To list currently used Qiskit simaultors"
   ]
  },
  {
   "cell_type": "markdown",
   "id": "soviet-soviet",
   "metadata": {},
   "source": [
    "## **SINGLE QUBIT OPERATIONS**"
   ]
  },
  {
   "cell_type": "markdown",
   "id": "directed-columbia",
   "metadata": {},
   "source": [
    "### X gate : Not gate\n",
    "\n",
    "$X = \\begin{bmatrix}0 & 1 \\\\ 1 & 0 \\end{bmatrix} , ~~~~~~ XX = I$\n",
    "\n",
    "$X|0\\rangle = |1\\rangle ~~~~~~~~~ X|1\\rangle = |0\\rangle $"
   ]
  },
  {
   "cell_type": "markdown",
   "id": "moral-apartment",
   "metadata": {},
   "source": [
    "## Functions to be used:\n",
    "\n",
    "* ###  QuantumCircuit(n,m)\n",
    "    * <span style=\"color:aquamarine\">n is the number of qubits</span>\n",
    "    * <span style=\"color:aquamarine\">m is the number of classical bits</span>\n",
    "    *  Find out more: https://qiskit.org/documentation/stubs/qiskit.circuit.QuantumCircuit.html\n",
    "    <p>&nbsp;</p>\n",
    "   \n",
    "* ### QuantumCircuit_Object.x(i)\n",
    "    * <span style=\"color:aquamarine\">Applies an xgate to the ith qubit</span>\n",
    "    *  Find out more:https://qiskit.org/documentation/stubs/qiskit.circuit.library.XGate.html\n",
    "    <p>&nbsp;</p>\n",
    "    \n",
    "* ### QuantumCircuit_Object.h(i)\n",
    "    * <span style=\"color:aquamarine\">Applies a hadmard gate to the ith qubit</span>\n",
    "    *  Find out more: https://qiskit.org/documentation/stubs/qiskit.circuit.library.HGate.html#qiskit.circuit.library.HGate\n",
    "    <p>&nbsp;</p>\n",
    "    \n",
    "* ### QuantumCircuit_Object.measure(n,m)\n",
    "    * <span style=\"color:aquamarine\">Measures the nth qubit and saves it's state to the mth classical bit.</span>\n",
    "    *  Find out more: https://qiskit.org/documentation/stub/qiskit.circuit.library.Measure.html#qiskit.circuit.library.Measure\n",
    "    <p>&nbsp;</p>\n",
    " \n",
    "* ### QuantumCircuit_Object.barrier()\n",
    "    * <span style=\"color:aquamarine\">Draws a barrier to physically differntiate parts of the circuits. </span>\n",
    "    * <span style=\"color:aquamarine\">NOTE: Has no effects on quantum circuit.</span>\n",
    "    *  Find out more: https://qiskit.org/documentation/stubs/qiskit.circuit.library.Barrier.html#qiskit.circuit.library.Barrier\n",
    "    <p>&nbsp;</p>\n",
    " \n",
    "* ### QuantumCircuit_Object.draw()\n",
    "    * <span style=\"color:aquamarine\">Draws the quantum circuit into the cells output. </span>\n",
    "    *  Find out more:https://qiskit.org/documentation/tutorials/circuits_advanced/03_advanced_circuit_visualization.html\n",
    "    <p>&nbsp;</p>\n",
    "\n",
    "* ### QuantumCircuit_Object.z(i)\n",
    "    * <span style=\"color:aquamarine\">Applies a zgate to the ith qubit</span>\n",
    "    *  Find out more: https://qiskit.org/documentation/stubs/qiskit.circuit.library.ZGate.html\n",
    "    <p>&nbsp;</p>\n",
    " \n",
    "* ### QuantumCircuit_Object.s(i)\n",
    "    * <span style=\"color:aquamarine\">Applies a sgate to the ith qubit</span>\n",
    "    *  Find out more: https://qiskit.org/documentation/stubs/qiskit.circuit.library.SGate.html\n",
    "    <p>&nbsp;</p>\n"
   ]
  },
  {
   "cell_type": "code",
   "execution_count": 8,
   "id": "equivalent-printer",
   "metadata": {},
   "outputs": [
    {
     "data": {
      "image/png": "[encoded data removed]",
      "text/plain": [
       "<Figure size 193.726x144.48 with 1 Axes>"
      ]
     },
     "execution_count": 8,
     "metadata": {},
     "output_type": "execute_result"
    }
   ],
   "source": [
    "qc = QuantumCircuit(1, 1) # Initialisation of 1 qubit , 1 classical bit circuit.\n",
    "qc.x(0) # Adding an Xgate to q1\n",
    "qc.measure(0, 0) # Measuring q1\n",
    "qc.draw() # Drawing the quantum circuit"
   ]
  },
  {
   "cell_type": "code",
   "execution_count": 9,
   "id": "streaming-christianity",
   "metadata": {},
   "outputs": [
    {
     "data": {
      "image/png": "[encoded data removed]",
      "text/plain": [
       "<Figure size 504x360 with 1 Axes>"
      ]
     },
     "execution_count": 9,
     "metadata": {},
     "output_type": "execute_result"
    }
   ],
   "source": [
    "backend = Aer.get_backend('qasm_simulator') # Choosing the backend \"qasm_simulator\" for simulation of the quantum circuit.\n",
    "\n",
    "job = execute(qc, backend) # Executing the job on the backend\n",
    "results = job.result() # Obtaining results from the executed job\n",
    "counts = results.get_counts() # Getting in the counts of 0/1 states in our output\n",
    "\n",
    "plot_histogram(counts) # Plotting the count results in a histogram"
   ]
  },
  {
   "cell_type": "code",
   "execution_count": 10,
   "id": "everyday-section",
   "metadata": {},
   "outputs": [
    {
     "data": {
      "image/png": "[encoded data removed]",
      "text/plain": [
       "<Figure size 314.126x144.48 with 1 Axes>"
      ]
     },
     "execution_count": 10,
     "metadata": {},
     "output_type": "execute_result"
    }
   ],
   "source": [
    "qc = QuantumCircuit(1, 1)# Initialisation of 1 qubit , 1 classical bit circuit.\n",
    "qc.x(0) # Adding an Xgate to q1\n",
    "qc.barrier() # making a barrier\n",
    "qc.x(0) # Adding an Xgate to q1\n",
    "qc.measure(0, 0) # Measuring q1\n",
    "qc.draw() #drawing the circuit"
   ]
  },
  {
   "cell_type": "code",
   "execution_count": 12,
   "id": "angry-zoning",
   "metadata": {},
   "outputs": [
    {
     "data": {
      "image/png": "[encoded data removed]",
      "text/plain": [
       "<Figure size 504x360 with 1 Axes>"
      ]
     },
     "execution_count": 12,
     "metadata": {},
     "output_type": "execute_result"
    }
   ],
   "source": [
    "job = execute(qc, backend) # Executing the job on the backend\n",
    "results = job.result() # Obtaining results from the executed job\n",
    "counts = results.get_counts() # Getting in the counts of 0/1 states in our output\n",
    "\n",
    "plot_histogram(counts) # Plotting the count results in a histogram"
   ]
  },
  {
   "cell_type": "markdown",
   "id": "academic-virtue",
   "metadata": {},
   "source": [
    "## H gate : Hadamard gate, create superposition\n",
    "\n",
    "$H = \\frac{1}{\\sqrt{2}} \\begin{bmatrix}1 & 1 \\\\ 1 & -1 \\end{bmatrix} , ~~~~~~  HH = I $\n",
    "\n",
    "$H|0\\rangle = \\frac{1}{\\sqrt{2}}(|0\\rangle + |1\\rangle) = |+\\rangle ~~~~~~~~~\n",
    "H|1\\rangle = \\frac{1}{\\sqrt{2}}(|0\\rangle - |1\\rangle) = |-\\rangle$ "
   ]
  },
  {
   "cell_type": "code",
   "execution_count": 13,
   "id": "ultimate-estate",
   "metadata": {},
   "outputs": [
    {
     "data": {
      "image/png": "[encoded data removed]",
      "text/plain": [
       "<Figure size 193.726x144.48 with 1 Axes>"
      ]
     },
     "execution_count": 13,
     "metadata": {},
     "output_type": "execute_result"
    }
   ],
   "source": [
    "qc = QuantumCircuit(1, 1) # Initialisation of 1 qubit , 1 classical bit circuit.\n",
    "qc.h(0) # Adding a hadmard gate\n",
    "qc.measure(0, 0) # Measuring q1\n",
    "qc.draw() #drawing the circuit"
   ]
  },
  {
   "cell_type": "code",
   "execution_count": 14,
   "id": "powered-installation",
   "metadata": {},
   "outputs": [
    {
     "data": {
      "image/png": "[encoded data removed]",
      "text/plain": [
       "<Figure size 504x360 with 1 Axes>"
      ]
     },
     "execution_count": 14,
     "metadata": {},
     "output_type": "execute_result"
    }
   ],
   "source": [
    "job = execute(qc, backend) # Executing the job on the backend\n",
    "results = job.result() # Obtaining results from the executed job\n",
    "counts = results.get_counts() # Getting in the counts of 0/1 states in our output\n",
    "\n",
    "plot_histogram(counts) # Plotting the count results in a histogram"
   ]
  },
  {
   "cell_type": "code",
   "execution_count": 15,
   "id": "ready-qatar",
   "metadata": {},
   "outputs": [
    {
     "data": {
      "image/png": "[encoded data removed]",
      "text/plain": [
       "<Figure size 314.126x144.48 with 1 Axes>"
      ]
     },
     "execution_count": 15,
     "metadata": {},
     "output_type": "execute_result"
    }
   ],
   "source": [
    "qc = QuantumCircuit(1, 1) # Initialisation of 1 qubit , 1 classical bit circuit.\n",
    "qc.x(0) # Adding an X gate\n",
    "qc.barrier() # Adding a barrier\n",
    "qc.h(0) # Adding a hadmard gate\n",
    "qc.measure(0, 0) # Measuring q1\n",
    "\n",
    "qc.draw() # Drawing Circuit"
   ]
  },
  {
   "cell_type": "code",
   "execution_count": 16,
   "id": "several-ocean",
   "metadata": {},
   "outputs": [
    {
     "data": {
      "image/png": "[encoded data removed]",
      "text/plain": [
       "<Figure size 504x360 with 1 Axes>"
      ]
     },
     "execution_count": 16,
     "metadata": {},
     "output_type": "execute_result"
    }
   ],
   "source": [
    "job = execute(qc, backend) # Executing the job on the backend\n",
    "results = job.result() # Obtaining results from the executed job\n",
    "counts = results.get_counts() # Getting in the counts of 0/1 states in our output\n",
    "\n",
    "plot_histogram(counts) # Plotting the count results in a histogram"
   ]
  },
  {
   "cell_type": "markdown",
   "id": "coastal-width",
   "metadata": {},
   "source": [
    "## Z gate :  create relative phase $\\pi$\n",
    "\n",
    "$Z = \\begin{bmatrix}1 & 0 \\\\ 0 & -1 \\end{bmatrix} , ~~~~~~ ZZ=I $\n",
    "\n",
    "$Z|0\\rangle = |0\\rangle ~~~~~~~~~\n",
    "Z|1\\rangle = e^{i\\pi} |1\\rangle = - |1\\rangle $ \n",
    "\n",
    "## S gate:  create relative phase $\\pi/2$\n",
    "\n",
    "$S = \\begin{bmatrix}1 & 0 \\\\ 0 & i \\end{bmatrix} ~~~~~~ SS^{\\dagger}=I $\n",
    "\n",
    "$S|0\\rangle = |0\\rangle ~~~~~~~~~\n",
    "S|1\\rangle = e^{i\\pi/2}|1\\rangle = i |1\\rangle $ "
   ]
  },
  {
   "cell_type": "code",
   "execution_count": 18,
   "id": "premium-kingdom",
   "metadata": {},
   "outputs": [
    {
     "data": {
      "image/png": "[encoded data removed]",
      "text/plain": [
       "<Figure size 314.126x144.48 with 1 Axes>"
      ]
     },
     "execution_count": 18,
     "metadata": {},
     "output_type": "execute_result"
    }
   ],
   "source": [
    "qc_z = QuantumCircuit(1, 1) # Initialisation of 1 qubit , 1 classical bit circuit.\n",
    "qc_z.h(0) # Adding a H gate\n",
    "qc_z.z(0) # Adding a Z gate\n",
    "qc_z.h(0) # Adding a H gate\n",
    "qc_z.measure(0, 0) # Measuring q1\n",
    "qc_z.draw() # Drawing the circuit"
   ]
  },
  {
   "cell_type": "code",
   "execution_count": 19,
   "id": "professional-today",
   "metadata": {},
   "outputs": [
    {
     "data": {
      "image/png": "[encoded data removed]",
      "text/plain": [
       "<Figure size 504x360 with 1 Axes>"
      ]
     },
     "execution_count": 19,
     "metadata": {},
     "output_type": "execute_result"
    }
   ],
   "source": [
    "job = execute(qc, backend) # Executing the job on the backend\n",
    "results = job.result() # Obtaining results from the executed job\n",
    "counts = results.get_counts() # Getting in the counts of 0/1 states in our output\n",
    "\n",
    "plot_histogram(counts) # Plotting the count results in a histogram"
   ]
  },
  {
   "cell_type": "code",
   "execution_count": 20,
   "id": "visible-avenue",
   "metadata": {},
   "outputs": [
    {
     "data": {
      "image/png": "[encoded data removed]",
      "text/plain": [
       "<Figure size 314.126x144.48 with 1 Axes>"
      ]
     },
     "execution_count": 20,
     "metadata": {},
     "output_type": "execute_result"
    }
   ],
   "source": [
    "qc_s = QuantumCircuit(1,1) # Initialisation of 1 qubit , 1 classical bit circuit.\n",
    "qc_s.h(0) # Adding a H gate\n",
    "qc_s.s(0) # Adding a S gate\n",
    "qc_s.h(0) # Adding a H gate\n",
    "qc_s.measure(0, 0) # Measuring q1\n",
    "qc_s.draw('mpl') # Drawing circuit"
   ]
  },
  {
   "cell_type": "code",
   "execution_count": 22,
   "id": "exotic-timeline",
   "metadata": {},
   "outputs": [
    {
     "data": {
      "image/png": "[encoded data removed]",
      "text/plain": [
       "<Figure size 504x360 with 1 Axes>"
      ]
     },
     "execution_count": 22,
     "metadata": {},
     "output_type": "execute_result"
    }
   ],
   "source": [
    "job = execute(qc_s, backend) # Executing the job on the backend\n",
    "results = job.result() # Obtaining results from the executed job\n",
    "counts = results.get_counts() # Getting in the counts of 0/1 states in our output\n",
    "\n",
    "plot_histogram(counts) # Plotting the count results in a histogram"
   ]
  },
  {
   "cell_type": "markdown",
   "id": "bacterial-struggle",
   "metadata": {},
   "source": [
    "## Composite system, Entanglement, two-qubit Gate\n",
    "### Construct Bell state\n",
    "* One of the Methods to make entagnled Qubits\n",
    "* There are 4 different bell states\n",
    "* Find out more: https://en.wikipedia.org/wiki/Bell_state"
   ]
  },
  {
   "cell_type": "code",
   "execution_count": 24,
   "id": "iraqi-museum",
   "metadata": {},
   "outputs": [
    {
     "data": {
      "image/png": "[encoded data removed]",
      "text/plain": [
       "<Figure size 327.252x204.68 with 1 Axes>"
      ]
     },
     "execution_count": 24,
     "metadata": {},
     "output_type": "execute_result"
    }
   ],
   "source": [
    "bell = QuantumCircuit(2, 2)  # Initialisation of 2 qubit , 2 classical bit circuit.\n",
    "bell.h(1) # Adding a H gate\n",
    "bell.cx(1, 0) # Adding a CNOT gate\n",
    "bell.measure(range(2), range(2)) \n",
    "bell.draw()"
   ]
  },
  {
   "cell_type": "code",
   "execution_count": 25,
   "id": "scenic-resolution",
   "metadata": {},
   "outputs": [
    {
     "data": {
      "image/png": "[encoded data removed]",
      "text/plain": [
       "<Figure size 504x360 with 1 Axes>"
      ]
     },
     "execution_count": 25,
     "metadata": {},
     "output_type": "execute_result"
    }
   ],
   "source": [
    "job = execute(bell, backend) # Executing the job on the backend\n",
    "results = job.result() # Obtaining results from the executed job\n",
    "counts = results.get_counts() # Getting in the counts of 0/1 states in our output\n",
    "\n",
    "plot_histogram(counts) # Plotting the count results in a histogram"
   ]
  },
  {
   "cell_type": "markdown",
   "id": "fatal-prescription",
   "metadata": {},
   "source": [
    "# Optional: Running Processes on a Quantum Computer"
   ]
  },
  {
   "cell_type": "code",
   "execution_count": 26,
   "id": "prerequisite-algorithm",
   "metadata": {},
   "outputs": [
    {
     "data": {
      "text/plain": [
       "[<IBMQSimulator('ibmq_qasm_simulator') from IBMQ(hub='ibm-q', group='open', project='main')>,\n",
       " <IBMQBackend('ibmqx2') from IBMQ(hub='ibm-q', group='open', project='main')>,\n",
       " <IBMQBackend('ibmq_16_melbourne') from IBMQ(hub='ibm-q', group='open', project='main')>,\n",
       " <IBMQBackend('ibmq_armonk') from IBMQ(hub='ibm-q', group='open', project='main')>,\n",
       " <IBMQBackend('ibmq_athens') from IBMQ(hub='ibm-q', group='open', project='main')>,\n",
       " <IBMQBackend('ibmq_santiago') from IBMQ(hub='ibm-q', group='open', project='main')>,\n",
       " <IBMQBackend('ibmq_lima') from IBMQ(hub='ibm-q', group='open', project='main')>,\n",
       " <IBMQBackend('ibmq_belem') from IBMQ(hub='ibm-q', group='open', project='main')>,\n",
       " <IBMQBackend('ibmq_quito') from IBMQ(hub='ibm-q', group='open', project='main')>,\n",
       " <IBMQSimulator('simulator_statevector') from IBMQ(hub='ibm-q', group='open', project='main')>,\n",
       " <IBMQSimulator('simulator_mps') from IBMQ(hub='ibm-q', group='open', project='main')>,\n",
       " <IBMQSimulator('simulator_extended_stabilizer') from IBMQ(hub='ibm-q', group='open', project='main')>,\n",
       " <IBMQSimulator('simulator_stabilizer') from IBMQ(hub='ibm-q', group='open', project='main')>]"
      ]
     },
     "execution_count": 26,
     "metadata": {},
     "output_type": "execute_result"
    }
   ],
   "source": [
    "provider.backends() # Lists out real , currently running quantum computers"
   ]
  },
  {
   "cell_type": "code",
   "execution_count": 29,
   "id": "orange-sound",
   "metadata": {},
   "outputs": [],
   "source": [
    "backend = provider.get_backend('ibmq_athens') #chosing a backend"
   ]
  },
  {
   "cell_type": "code",
   "execution_count": null,
   "id": "nutritional-retailer",
   "metadata": {},
   "outputs": [],
   "source": [
    "max_shots = 8192 #Maxx shots\n",
    "#job = execute(bell, backend, shots=max_shots)\n",
    "job = backend.retrieve_job('6027b772ff51aadcf3c63560') #Get job id from IBM Quantum Experience"
   ]
  },
  {
   "cell_type": "code",
   "execution_count": null,
   "id": "graphic-relation",
   "metadata": {},
   "outputs": [],
   "source": [
    "counts = job.result().get_counts()\n",
    "plot_histogram(counts)"
   ]
  },
  {
   "cell_type": "markdown",
   "id": "residential-apparel",
   "metadata": {},
   "source": [
    "# Note: You will find that the "
   ]
  }
 ],
 "metadata": {
  "kernelspec": {
   "display_name": "Python 3",
   "language": "python",
   "name": "python3"
  },
  "language_info": {
   "codemirror_mode": {
    "name": "ipython",
    "version": 3
   },
   "file_extension": ".py",
   "mimetype": "text/x-python",
   "name": "python",
   "nbconvert_exporter": "python",
   "pygments_lexer": "ipython3",
   "version": "3.8.8"
  }
 },
 "nbformat": 4,
 "nbformat_minor": 5
}

{
 "cells": [
  {
   "cell_type": "code",
   "execution_count": null,
   "id": "alleged-hawaii",
   "metadata": {},
   "outputs": [],
   "source": [
    "%matplotlib inline\n",
    "# Importing standard Qiskit libraries\n",
    "import qiskit as q\n",
    "from qiskit import QuantumCircuit, execute, Aer, IBMQ\n",
    "from qiskit.compiler import transpile, assemble\n",
    "from qiskit.tools.jupyter import *\n",
    "from qiskit.visualization import *\n",
    "from ibm_quantum_widgets import *\n",
    "\n",
    "# Loading your IBM Q account(s)\n",
    "provider = IBMQ.load_account("
   ]
  },
  {
   "cell_type": "markdown",
   "id": "juvenile-rally",
   "metadata": {},
   "source": [
    "# Unitary gate contruction in Qiskit\n",
    "\n",
    "## Qiskit uses right indexing\n",
    "Part of qiskit's internal structure means that bit strings are always right indexed, that means $| q_3, q_2, q_1, q_0 \\rangle$ is representing the state of qubit 0 to qubit 3 from right to left.\n",
    "\n",
    "e.g. $|0010\\rangle$ means qubit 1 has been flipped\n",
    "\n",
    "Now that we've got the hang of doing things by hand, let's do it in python!\n",
    "To perform the tensor product of $a$ and $b$ in python we use `np.kron(a,b)`. Kron is short for the Kronecker product, and advanced maths notation aside they will do the same matrix operation that we need.\n",
    "\n",
    "[Find out more](https://numpy.org/doc/stable/reference/generated/numpy.kron.html)\n",
    "### a) Using  `np.kron(a,b)` print the matrix representing the follwoing:\n",
    "$$\n",
    "    |\\Psi \\rangle = \n",
    "    \\left(\\left(\\begin{bmatrix}\n",
    "        1 \\\\\n",
    "        0\n",
    "     \\end{bmatrix}\n",
    "     \\otimes\n",
    "      \\begin{bmatrix}\n",
    "        1 \\\\\n",
    "        0\n",
    "     \\end{bmatrix}\\right)\n",
    "     \\otimes\n",
    "      \\begin{bmatrix}\n",
    "        0 \\\\\n",
    "        1\n",
    "     \\end{bmatrix}\\right)\n",
    "     \\otimes\n",
    "      \\begin{bmatrix}\n",
    "        1 \\\\\n",
    "        0\n",
    "     \\end{bmatrix}\n",
    "$$\n",
    "\n",
    "\n",
    "### b) Using these matrix definitions of the CNOT gate and the Identity matrix\n",
    "$$\n",
    "    CNOT = \n",
    "    \\begin{bmatrix}\n",
    "        1 & 0 & 0 & 0 \\\\\n",
    "        0 & 1 & 0 & 0 \\\\\n",
    "        0 & 0 & 0 & 1 \\\\\n",
    "        0 & 0 & 1 & 0\n",
    "     \\end{bmatrix}\n",
    "$$\n",
    "\n",
    "$$\n",
    "    I = \n",
    "    \\begin{bmatrix}\n",
    "        1 & 0\\\\\n",
    "        0 & 1\n",
    "     \\end{bmatrix}\n",
    "$$\n",
    "\n",
    "###  and  `np.kron(a,b)` print the matrix representing the follwoing:\n",
    "\n",
    "$$\n",
    "    U = (I \\otimes I) \\otimes CNOT\n",
    "$$\n",
    "\n",
    "###  c) Lastly, using `np.dot(a,b)` find the statevector of $|\\Phi\\rangle$:\n",
    "\n",
    "$$\n",
    "    |\\Phi\\rangle = U |\\Psi\\rangle\n",
    "$$\n",
    "Now that we have created our custom 4 qubit U gate we can pop it into qiskit and simulate!\n",
    "\n",
    "\n",
    "We need to use two new things:\n",
    "First we need to use the quantum operator class `q.quantum_info.Operator(U)` this takes a matrix U and makes it a proper operator.\n",
    "Next we need to make the operator into a gate using `qc.unitary(op, [a,b,c,d], label='U')` this function takes in three variables, `op` which is a quantum operator, `[a,b,c,d]` which is a string containing all the qubits this gate operates over and `label` which gives the gate a name.\n",
    "\n",
    "In our case we would like our U gate to operate over all 4 qubits:\n",
    "```\n",
    "op = q.quantum_info.Operator(U)\n",
    "qc.unitary(op, [0,1,2,3], label='U')\n",
    "```\n"
   ]
  },
  {
   "cell_type": "code",
   "execution_count": 5,
   "id": "occupied-comparison",
   "metadata": {},
   "outputs": [
    {
     "data": {
      "image/png": "[encoded data removed]",
      "text/plain": [
       "<Figure size 146.797x264.88 with 1 Axes>"
      ]
     },
     "metadata": {},
     "output_type": "display_data"
    }
   ],
   "source": [
    "# Statevector simulator use\n",
    "# This intialises the state \n",
    "qc = q.QuantumCircuit(4)\n",
    "qc.x(1)\n",
    "display(qc.draw(output=\"mpl\"))"
   ]
  },
  {
   "cell_type": "code",
   "execution_count": 6,
   "id": "naughty-behavior",
   "metadata": {},
   "outputs": [
    {
     "data": {
      "image/png": "[encoded data removed]",
      "text/plain": [
       "<Figure size 504x360 with 1 Axes>"
      ]
     },
     "metadata": {},
     "output_type": "display_data"
    },
    {
     "data": {
      "text/plain": [
       "array([0.+0.j, 0.+0.j, 1.+0.j, 0.+0.j, 0.+0.j, 0.+0.j, 0.+0.j, 0.+0.j,\n",
       "       0.+0.j, 0.+0.j, 0.+0.j, 0.+0.j, 0.+0.j, 0.+0.j, 0.+0.j, 0.+0.j])"
      ]
     },
     "metadata": {},
     "output_type": "display_data"
    }
   ],
   "source": [
    "# Show initial state and statevector \n",
    "# (rememeber qiskit writes the statevectors and bit strings backwards - right indexed)\n",
    "backend = q.Aer.get_backend('statevector_simulator')\n",
    "job = q.execute(qc, backend)\n",
    "result = job.result()\n",
    "out_state = result.get_statevector()\n",
    "counts = result.get_counts(qc)\n",
    "graph = q.visualization.plot_histogram(counts)\n",
    "display(graph)\n",
    "display(out_state)"
   ]
  },
  {
   "cell_type": "code",
   "execution_count": null,
   "id": "recovered-acting",
   "metadata": {},
   "outputs": [],
   "source": [
    "op = q.quantum_info.Operator(U)\n",
    "qc.unitary(op, [0,1,2,3], label='U')\n",
    "qc = q.QuantumCircuit(4)\n",
    "qc.op(1)\n",
    "display(qc.draw(output=\"mpl\"))\n",
    "\n",
    "# Try making the Operator U using the kron functions using the steps above and run it on a statevector simaultor."
   ]
  },
  {
   "cell_type": "markdown",
   "id": "decimal-rebecca",
   "metadata": {},
   "source": [
    "## Noise and Noise Simulation\n",
    "Unfortunately, quantum computers are not as perfect as our statevector simulator makes it out to be.\n",
    "\n",
    "In reality the quantum system is subject to random noise which can cause our quantum states to decohere - we can simulate these more realistic quantum systems using the `qasm_simulator`\n",
    "\n",
    "The `qasm_simulator` works very similarily to the `statevector_simulator` with two main differences:\n",
    "1. **The execute command requires a third argument `shots` - this tells the simulator how many times you want to run your circuit. (The more times you run the circuit, the closer you can approximate a perfect system.)**\n",
    "\n",
    "2. **The circuit must also have a measurement gate placed at the end of each qubit rail, this reads out to classical rails represented collectively as C.**\n",
    "\n",
    "When using `circ.measure(qubit_list, classical_list)` remember that the `qubit_list` is the list of all qubits that are being read out and the `classical_list` is the list of all classic bits that they are being read out to.\n",
    "\n",
    "Let's use the $\\Phi^+$ Bell state as an example:"
   ]
  },
  {
   "cell_type": "code",
   "execution_count": 12,
   "id": "optical-trading",
   "metadata": {},
   "outputs": [
    {
     "data": {
      "image/png": "[encoded data removed]",
      "text/plain": [
       "<Figure size 327.252x204.68 with 1 Axes>"
      ]
     },
     "execution_count": 12,
     "metadata": {},
     "output_type": "execute_result"
    }
   ],
   "source": [
    "# Initialize a quantum circuit with 2 qubits and 2 classical bits\n",
    "phi_plus = q.QuantumCircuit(2, 2)\n",
    "phi_plus.h(0)\n",
    "phi_plus.cx(0, 1)\n",
    "phi_plus.measure([0,1], [0,1])\n",
    "phi_plus.draw(output=\"mpl\")"
   ]
  },
  {
   "cell_type": "code",
   "execution_count": 15,
   "id": "abroad-daisy",
   "metadata": {},
   "outputs": [
    {
     "data": {
      "image/png": "[encoded data removed]",
      "text/plain": [
       "<Figure size 504x360 with 1 Axes>"
      ]
     },
     "execution_count": 15,
     "metadata": {},
     "output_type": "execute_result"
    }
   ],
   "source": [
    "simulator = q.Aer.get_backend('qasm_simulator')\n",
    "job = q.execute(phi_plus, simulator, shots=1000) \n",
    "# We can now run the circuit through the simulator with 1000 shots, this should give us a good approximation of the ideal quantum state.\n",
    "result = job.result()\n",
    "counts = result.get_counts(phi_plus)\n",
    "q.visualization.plot_histogram(counts)"
   ]
  }
 ],
 "metadata": {
  "kernelspec": {
   "display_name": "Python 3",
   "language": "python",
   "name": "python3"
  },
  "language_info": {
   "codemirror_mode": {
    "name": "ipython",
    "version": 3
   },
   "file_extension": ".py",
   "mimetype": "text/x-python",
   "name": "python",
   "nbconvert_exporter": "python",
   "pygments_lexer": "ipython3",
   "version": "3.8.8"
  }
 },
 "nbformat": 4,
 "nbformat_minor": 5
}
